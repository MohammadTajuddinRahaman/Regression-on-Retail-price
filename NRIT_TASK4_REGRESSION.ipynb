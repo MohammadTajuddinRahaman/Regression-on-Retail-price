{
 "cells": [
  {
   "cell_type": "markdown",
   "id": "0ecbccca-e84e-45f6-b4ef-6c7214131850",
   "metadata": {},
   "source": [
    "# How can we build a Python-based machine learning model to optimize retail product prices—using features like historical sales, competitor prices, seasonality, and product attributes—to maximize revenue and profit?"
   ]
  },
  {
   "cell_type": "code",
   "execution_count": 5,
   "id": "50e1b160-193e-4ad2-9bdf-19833a2236ff",
   "metadata": {},
   "outputs": [],
   "source": [
    "import pandas as pd\n",
    "import numpy as np\n",
    "from sklearn.model_selection import train_test_split\n",
    "from sklearn.preprocessing import LabelEncoder, StandardScaler\n",
    "from sklearn.linear_model import LinearRegression, Ridge, Lasso\n",
    "from sklearn.ensemble import RandomForestRegressor\n",
    "from xgboost import XGBRegressor\n",
    "from sklearn.metrics import mean_squared_error, r2_score"
   ]
  },
  {
   "cell_type": "code",
   "execution_count": 9,
   "id": "27355248-581b-4c6e-8abb-db33a72a63e8",
   "metadata": {},
   "outputs": [],
   "source": [
    "df=pd.read_csv(r\"C:\\Users\\tajud\\OneDrive\\Desktop\\NRIT\\sudents and projects\\S4\\Reression\\retail\\retail_price.csv\")"
   ]
  },
  {
   "cell_type": "code",
   "execution_count": 11,
   "id": "26a59cee-2940-4649-bc71-8fdc7e80e173",
   "metadata": {},
   "outputs": [],
   "source": [
    "# Step 2: Drop Unnecessary Columns\n",
    "df.drop(columns=[\"product_id\", \"month_year\"], axis=1, inplace=True, errors='ignore')"
   ]
  },
  {
   "cell_type": "code",
   "execution_count": 13,
   "id": "5b1c8ac4-b7ed-4113-8e06-363360c92928",
   "metadata": {},
   "outputs": [],
   "source": [
    "# Step 3: Encode Categorical Variables\n",
    "if 'product_category_name' in df.columns:\n",
    "    df['product_category_name'] = LabelEncoder().fit_transform(df['product_category_name'])"
   ]
  },
  {
   "cell_type": "code",
   "execution_count": 15,
   "id": "8544fdfa-591a-4771-bbf8-2dbdb748c915",
   "metadata": {},
   "outputs": [],
   "source": [
    "# Step 4: Handle Missing Values\n",
    "df.fillna(df.mean(numeric_only=True), inplace=True)"
   ]
  },
  {
   "cell_type": "code",
   "execution_count": 17,
   "id": "3ec1f709-3f42-4f23-a62d-e566649efcaf",
   "metadata": {},
   "outputs": [],
   "source": [
    "# Step 5: Feature and Target\n",
    "X = df.drop(\"unit_price\", axis=1)\n",
    "y = df[\"unit_price\"]"
   ]
  },
  {
   "cell_type": "code",
   "execution_count": 19,
   "id": "29d49b38-13c4-4dda-b18e-05eb50360f42",
   "metadata": {},
   "outputs": [],
   "source": [
    "# Step 6: Scale Features\n",
    "X_scaled = StandardScaler().fit_transform(X)"
   ]
  },
  {
   "cell_type": "code",
   "execution_count": 21,
   "id": "7007f38a-7f06-431a-ae09-1ce1986cdcc9",
   "metadata": {},
   "outputs": [],
   "source": [
    "# Step 7: Train-Test Split\n",
    "X_train, X_test, y_train, y_test = train_test_split(X_scaled, y, test_size=0.2, random_state=42)"
   ]
  },
  {
   "cell_type": "code",
   "execution_count": 23,
   "id": "ea6fc8ca-6cbc-4f58-b050-d53b6b391c68",
   "metadata": {},
   "outputs": [],
   "source": [
    "# Step 8: Define Regression Models\n",
    "models = {\n",
    "    \"Linear Regression\": LinearRegression(),\n",
    "    \"Ridge Regression\": Ridge(alpha=1.0),\n",
    "    \"Lasso Regression\": Lasso(alpha=0.1),\n",
    "    \"Random Forest\": RandomForestRegressor(n_estimators=100, random_state=42),\n",
    "    \"XGBoost\": XGBRegressor(n_estimators=100, random_state=42)\n",
    "}"
   ]
  },
  {
   "cell_type": "code",
   "execution_count": 25,
   "id": "7e03bbf9-1a05-4c45-9e73-10f682adb204",
   "metadata": {},
   "outputs": [
    {
     "name": "stdout",
     "output_type": "stream",
     "text": [
      "🔍 Regression Results:\n",
      "\n",
      "Linear Regression:\n",
      "  ✅ RMSE: 8.14\n",
      "  ✅ R² Score: 0.9877\n",
      "\n",
      "Ridge Regression:\n",
      "  ✅ RMSE: 8.13\n",
      "  ✅ R² Score: 0.9878\n",
      "\n",
      "Lasso Regression:\n",
      "  ✅ RMSE: 7.99\n",
      "  ✅ R² Score: 0.9882\n",
      "\n"
     ]
    },
    {
     "name": "stderr",
     "output_type": "stream",
     "text": [
      "C:\\Users\\tajud\\anaconda3\\Lib\\site-packages\\sklearn\\metrics\\_regression.py:492: FutureWarning: 'squared' is deprecated in version 1.4 and will be removed in 1.6. To calculate the root mean squared error, use the function'root_mean_squared_error'.\n",
      "  warnings.warn(\n",
      "C:\\Users\\tajud\\anaconda3\\Lib\\site-packages\\sklearn\\metrics\\_regression.py:492: FutureWarning: 'squared' is deprecated in version 1.4 and will be removed in 1.6. To calculate the root mean squared error, use the function'root_mean_squared_error'.\n",
      "  warnings.warn(\n",
      "C:\\Users\\tajud\\anaconda3\\Lib\\site-packages\\sklearn\\metrics\\_regression.py:492: FutureWarning: 'squared' is deprecated in version 1.4 and will be removed in 1.6. To calculate the root mean squared error, use the function'root_mean_squared_error'.\n",
      "  warnings.warn(\n"
     ]
    },
    {
     "name": "stdout",
     "output_type": "stream",
     "text": [
      "Random Forest:\n",
      "  ✅ RMSE: 6.81\n",
      "  ✅ R² Score: 0.9914\n",
      "\n",
      "XGBoost:\n",
      "  ✅ RMSE: 6.92\n",
      "  ✅ R² Score: 0.9911\n",
      "\n"
     ]
    },
    {
     "name": "stderr",
     "output_type": "stream",
     "text": [
      "C:\\Users\\tajud\\anaconda3\\Lib\\site-packages\\sklearn\\metrics\\_regression.py:492: FutureWarning: 'squared' is deprecated in version 1.4 and will be removed in 1.6. To calculate the root mean squared error, use the function'root_mean_squared_error'.\n",
      "  warnings.warn(\n",
      "C:\\Users\\tajud\\anaconda3\\Lib\\site-packages\\sklearn\\metrics\\_regression.py:492: FutureWarning: 'squared' is deprecated in version 1.4 and will be removed in 1.6. To calculate the root mean squared error, use the function'root_mean_squared_error'.\n",
      "  warnings.warn(\n"
     ]
    }
   ],
   "source": [
    "# Step 9: Train, Predict and Evaluate\n",
    "print(\"🔍 Regression Results:\\n\")\n",
    "for name, model in models.items():\n",
    "    model.fit(X_train, y_train)\n",
    "    y_pred = model.predict(X_test)\n",
    "    rmse = mean_squared_error(y_test, y_pred, squared=False)\n",
    "    r2 = r2_score(y_test, y_pred)\n",
    "    print(f\"{name}:\")\n",
    "    print(f\"  ✅ RMSE: {rmse:.2f}\")\n",
    "    print(f\"  ✅ R² Score: {r2:.4f}\\n\")"
   ]
  },
  {
   "cell_type": "code",
   "execution_count": null,
   "id": "f4fa58b7-ebd3-4bef-8ddb-135d17dca19a",
   "metadata": {},
   "outputs": [],
   "source": []
  },
  {
   "cell_type": "code",
   "execution_count": 29,
   "id": "840c47d4-fe6a-4faf-875f-3bfc8ed86726",
   "metadata": {},
   "outputs": [
    {
     "name": "stdout",
     "output_type": "stream",
     "text": [
      "Linear Regression:\n",
      "  RMSE: 8.14\n",
      "  R² Score: 0.9877\n",
      "\n",
      "Ridge Regression:\n",
      "  RMSE: 8.13\n",
      "  R² Score: 0.9878\n",
      "\n",
      "Random Forest:\n",
      "  RMSE: 6.81\n",
      "  R² Score: 0.9914\n",
      "\n",
      "XGBoost:\n",
      "  RMSE: 6.92\n",
      "  R² Score: 0.9911\n",
      "\n"
     ]
    }
   ],
   "source": [
    "models = {\n",
    "    \"Linear Regression\": LinearRegression(),\n",
    "    \"Ridge Regression\": Ridge(alpha=1.0),\n",
    "    \"Random Forest\": RandomForestRegressor(n_estimators=100, random_state=42),\n",
    "     \"XGBoost\": XGBRegressor(n_estimators=100, random_state=42)\n",
    "    \n",
    "}\n",
    "results = {}\n",
    "for name, model in models.items():\n",
    "    model.fit(X_train, y_train)\n",
    "    y_pred = model.predict(X_test)\n",
    "    rmse = np.sqrt(mean_squared_error(y_test, y_pred))\n",
    "    r2 = r2_score(y_test, y_pred)\n",
    "    results[name] = {'RMSE': rmse, 'R²': r2}\n",
    "    print(f\"{name}:\")\n",
    "    print(f\"  RMSE: {rmse:.2f}\")\n",
    "    print(f\"  R² Score: {r2:.4f}\\n\")"
   ]
  },
  {
   "cell_type": "code",
   "execution_count": 31,
   "id": "9006f29a-f1f1-45ca-ab52-30e64ea58a7a",
   "metadata": {},
   "outputs": [
    {
     "ename": "NameError",
     "evalue": "name 'plt' is not defined",
     "output_type": "error",
     "traceback": [
      "\u001b[1;31m---------------------------------------------------------------------------\u001b[0m",
      "\u001b[1;31mNameError\u001b[0m                                 Traceback (most recent call last)",
      "Cell \u001b[1;32mIn[31], line 3\u001b[0m\n\u001b[0;32m      1\u001b[0m results_df \u001b[38;5;241m=\u001b[39m pd\u001b[38;5;241m.\u001b[39mDataFrame(results)\u001b[38;5;241m.\u001b[39mT\n\u001b[0;32m      2\u001b[0m results_df\u001b[38;5;241m.\u001b[39mplot(kind\u001b[38;5;241m=\u001b[39m\u001b[38;5;124m'\u001b[39m\u001b[38;5;124mbar\u001b[39m\u001b[38;5;124m'\u001b[39m, figsize\u001b[38;5;241m=\u001b[39m(\u001b[38;5;241m10\u001b[39m,\u001b[38;5;241m6\u001b[39m), title\u001b[38;5;241m=\u001b[39m\u001b[38;5;124m'\u001b[39m\u001b[38;5;124mRegression Model Comparison\u001b[39m\u001b[38;5;124m'\u001b[39m)\n\u001b[1;32m----> 3\u001b[0m plt\u001b[38;5;241m.\u001b[39mxticks(rotation\u001b[38;5;241m=\u001b[39m\u001b[38;5;241m45\u001b[39m)\n\u001b[0;32m      4\u001b[0m plt\u001b[38;5;241m.\u001b[39mylabel(\u001b[38;5;124m'\u001b[39m\u001b[38;5;124mScore\u001b[39m\u001b[38;5;124m'\u001b[39m)\n\u001b[0;32m      5\u001b[0m plt\u001b[38;5;241m.\u001b[39mgrid(\u001b[38;5;28;01mTrue\u001b[39;00m)\n",
      "\u001b[1;31mNameError\u001b[0m: name 'plt' is not defined"
     ]
    },
    {
     "data": {
      "image/png": "[encoded data removed]",
      "text/plain": [
       "<Figure size 1000x600 with 1 Axes>"
      ]
     },
     "metadata": {},
     "output_type": "display_data"
    }
   ],
   "source": [
    "results_df = pd.DataFrame(results).T\n",
    "results_df.plot(kind='bar', figsize=(10,6), title='Regression Model Comparison')\n",
    "plt.xticks(rotation=45)\n",
    "plt.ylabel('Score')\n",
    "plt.grid(True)\n",
    "plt.tight_layout()\n",
    "plt.show()"
   ]
  },
  {
   "cell_type": "code",
   "execution_count": null,
   "id": "6ff9e066-5b9f-4ed9-a512-be4eaa1013cc",
   "metadata": {},
   "outputs": [],
   "source": []
  }
 ],
 "metadata": {
  "kernelspec": {
   "display_name": "Python [conda env:base] *",
   "language": "python",
   "name": "conda-base-py"
  },
  "language_info": {
   "codemirror_mode": {
    "name": "ipython",
    "version": 3
   },
   "file_extension": ".py",
   "mimetype": "text/x-python",
   "name": "python",
   "nbconvert_exporter": "python",
   "pygments_lexer": "ipython3",
   "version": "3.12.7"
  }
 },
 "nbformat": 4,
 "nbformat_minor": 5
}
